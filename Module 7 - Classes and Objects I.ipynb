{
 "cells": [
  {
   "cell_type": "markdown",
   "metadata": {},
   "source": [
    "# GBA 6070 - Programming Foundation for Business Analytics\n",
    "# Dr. Mohammad Salehan\n",
    "# Module 7 - Classes and Objects I\n",
    "At this point you know how to use functions to organize code and built-in types to organize\n",
    "data. The next step is to learn “object-oriented programming”, which uses programmer-defined\n",
    "types to organize both code and data."
   ]
  },
  {
   "cell_type": "markdown",
   "metadata": {},
   "source": [
    "## Programmer-defined types\n",
    "We have used many of Python’s built-in types; now we are going to define a new `type`. As\n",
    "an example, we will create a type called Point that represents a point in two-dimensional\n",
    "space.<br>In mathematical notation, points are often written in parentheses with a comma separating\n",
    "the coordinates. For example, (0, 0) represents the origin, and (x, y) represents the point x\n",
    "units to the right and y units up from the origin.<br>A programmer-defined type is also called a `class`. A `class` definition looks like this:"
   ]
  },
  {
   "cell_type": "code",
   "execution_count": 3,
   "metadata": {},
   "outputs": [],
   "source": [
    "class Point:\n",
    "    x = 0\n",
    "    y = 0"
   ]
  },
  {
   "cell_type": "markdown",
   "metadata": {},
   "source": [
    "The above class is named `Point` and it has 2 attributes: x and y. Below, we create an `instance` of `Point` and assign it to a variable named blank."
   ]
  },
  {
   "cell_type": "code",
   "execution_count": 4,
   "metadata": {},
   "outputs": [],
   "source": [
    "blank = Point()"
   ]
  },
  {
   "cell_type": "markdown",
   "metadata": {},
   "source": [
    "Here, we get the value for attribute y of the `object` we created in the previous step."
   ]
  },
  {
   "cell_type": "code",
   "execution_count": 5,
   "metadata": {},
   "outputs": [
    {
     "data": {
      "text/plain": [
       "0"
      ]
     },
     "execution_count": 5,
     "metadata": {},
     "output_type": "execute_result"
    }
   ],
   "source": [
    "blank.y"
   ]
  },
  {
   "cell_type": "markdown",
   "metadata": {},
   "source": [
    "Below we examine the `type` of blank. `__main__` refers to package name. Each package contains one or more classes. For classes that are not explicitly part of any package, package name is `__main__` representing the top level module in the program."
   ]
  },
  {
   "cell_type": "code",
   "execution_count": 6,
   "metadata": {},
   "outputs": [
    {
     "data": {
      "text/plain": [
       "__main__.Point"
      ]
     },
     "execution_count": 6,
     "metadata": {},
     "output_type": "execute_result"
    }
   ],
   "source": [
    "type(blank)"
   ]
  },
  {
   "cell_type": "markdown",
   "metadata": {},
   "source": [
    "### Objects are mutable\n",
    "You can modify the attributes of an `object` after it is created."
   ]
  },
  {
   "cell_type": "code",
   "execution_count": 7,
   "metadata": {},
   "outputs": [
    {
     "name": "stdout",
     "output_type": "stream",
     "text": [
      "3.0\n",
      "4.0\n"
     ]
    }
   ],
   "source": [
    "blank.x = 3.0\n",
    "blank.y = 4.0\n",
    "print(blank.x)\n",
    "print(blank.y)"
   ]
  },
  {
   "cell_type": "code",
   "execution_count": 8,
   "metadata": {},
   "outputs": [],
   "source": [
    "a=[1,2,3]\n",
    "b=[3,4,5]"
   ]
  },
  {
   "cell_type": "markdown",
   "metadata": {},
   "source": [
    "You can create multiple instances of a `class`. Here, we create a second instance of `Point` named center"
   ]
  },
  {
   "cell_type": "code",
   "execution_count": 9,
   "metadata": {},
   "outputs": [
    {
     "name": "stdout",
     "output_type": "stream",
     "text": [
      "10 12 13 9\n"
     ]
    }
   ],
   "source": [
    "center = Point()\n",
    "center.x = 10\n",
    "center.y = 12\n",
    "center.z =13\n",
    "center.p=9\n",
    "print(center.x, center.y, center.z, center.p)"
   ]
  },
  {
   "cell_type": "markdown",
   "metadata": {},
   "source": [
    "### Class methods\n",
    "Classes allow you to package data and functionality. You saw how to add data to a class using attributes. Below you see how to add functionality using class methods. Methods are functions defined within a class. Below, we add a method named print_point to Point class that prints it as (x,y).<br>\n",
    "Keyword `self` refers to the current object and is the mandotory first parameter of any method definition. You use `self.` to access attributes and methods of the same object."
   ]
  },
  {
   "cell_type": "code",
   "execution_count": 10,
   "metadata": {},
   "outputs": [],
   "source": [
    "class Point:\n",
    "    x = 0\n",
    "    y = 0\n",
    "    \n",
    "    def print_point(self):\n",
    "        print('({},{})'.format(self.x, self.y))\n",
    "    "
   ]
  },
  {
   "cell_type": "markdown",
   "metadata": {},
   "source": [
    "Below we create a new instance of Point and then use its print_point method to print it out."
   ]
  },
  {
   "cell_type": "code",
   "execution_count": 11,
   "metadata": {},
   "outputs": [
    {
     "name": "stdout",
     "output_type": "stream",
     "text": [
      "(5,10)\n"
     ]
    }
   ],
   "source": [
    "printable_point = Point()\n",
    "printable_point.x = 5\n",
    "printable_point.y = 10\n",
    "printable_point.print_point()"
   ]
  },
  {
   "cell_type": "markdown",
   "metadata": {},
   "source": [
    "## Class exercise\n",
    "Add a method to `Point` class named `distance_from_origin` that calculates and returns its distance from origin (0,0) using this formula: distance = &#x221A;(x<sup>2</sup>+y<sup>2</sup>)"
   ]
  },
  {
   "cell_type": "code",
   "execution_count": 12,
   "metadata": {},
   "outputs": [],
   "source": [
    " class Point:\n",
    "    x = 0\n",
    "    y = 0\n",
    "    \n",
    "    def print_point(self):\n",
    "        print('({},{})'.format(self.x, self.y))\n",
    "        \n",
    "    def distance_from_origin(self):\n",
    "        import math\n",
    "        return math.sqrt(self.x**2+self.y**2)\n",
    " "
   ]
  },
  {
   "cell_type": "markdown",
   "metadata": {},
   "source": [
    "Let's examine the newly added method below."
   ]
  },
  {
   "cell_type": "code",
   "execution_count": 13,
   "metadata": {},
   "outputs": [
    {
     "data": {
      "text/plain": [
       "11.180339887498949"
      ]
     },
     "execution_count": 13,
     "metadata": {},
     "output_type": "execute_result"
    }
   ],
   "source": [
    "printable_point = Point()\n",
    "printable_point.x = 5\n",
    "printable_point.y = 10\n",
    "printable_point.distance_from_origin()"
   ]
  },
  {
   "cell_type": "markdown",
   "metadata": {},
   "source": [
    "### Class methods with parameters\n",
    "Like functions, class methods can accept parameters. Below, we add a method that can calculate the distance between current `Point` and another `Point` using this formula: distance = &#x221A;((x<sub>1</sub>-x<sub>2</sub>)<sup>2</sup>+(y<sub>1</sub>-y<sub>2</sub>)<sup>2</sup>)."
   ]
  },
  {
   "cell_type": "code",
   "execution_count": 33,
   "metadata": {},
   "outputs": [],
   "source": [
    "class Point:\n",
    "    x = 0\n",
    "    y = 0\n",
    "    \n",
    "    def print_point(self):\n",
    "        print('({},{})'.format(self.x, self.y))\n",
    "        \n",
    "    def distance(self, x, y):\n",
    "        import math\n",
    "        return math.sqrt((self.x-x)**2 + self.y**2)"
   ]
  },
  {
   "cell_type": "markdown",
   "metadata": {},
   "source": [
    "Let's test the newly added method."
   ]
  },
  {
   "cell_type": "code",
   "execution_count": 34,
   "metadata": {},
   "outputs": [
    {
     "data": {
      "text/plain": [
       "10.770329614269007"
      ]
     },
     "execution_count": 34,
     "metadata": {},
     "output_type": "execute_result"
    }
   ],
   "source": [
    "point = Point()\n",
    "point.x = 5\n",
    "point.y = 10\n",
    "point.distance(1, 8)"
   ]
  },
  {
   "cell_type": "markdown",
   "metadata": {},
   "source": [
    "### Objects as method parameters\n",
    "Objects can be used as method parameters. Below we repeat the example above using only one parameter. The parameter itself will be another `Point` object."
   ]
  },
  {
   "cell_type": "code",
   "execution_count": 35,
   "metadata": {},
   "outputs": [],
   "source": [
    "import math\n",
    "class Point:\n",
    "    x = 0\n",
    "    y = 0\n",
    "    \n",
    "    def print_point(self):\n",
    "        print('({},{})'.format(self.x, self.y))\n",
    "        \n",
    "    #def distance(self, x, y):\n",
    "        #return math.sqrt((self.x-x)**2 + (self.y-y)**2)\n",
    "    \n",
    "    def distance_from_point(self, point):\n",
    "        return math.sqrt((self.x-point.x)**2 + (self.y-point.y)**2)"
   ]
  },
  {
   "cell_type": "markdown",
   "metadata": {},
   "source": [
    "Let's test it by creating 2 point objects."
   ]
  },
  {
   "cell_type": "code",
   "execution_count": 36,
   "metadata": {},
   "outputs": [
    {
     "data": {
      "text/plain": [
       "2.23606797749979"
      ]
     },
     "execution_count": 36,
     "metadata": {},
     "output_type": "execute_result"
    }
   ],
   "source": [
    "point1 = Point()\n",
    "point1.x = 5\n",
    "point1.y = 10\n",
    "point2 = Point()\n",
    "point2.x = 3\n",
    "point2.y = 9\n",
    "point1.distance_from_point(point2)"
   ]
  },
  {
   "cell_type": "markdown",
   "metadata": {},
   "source": [
    "Below we add a method named `can_form_triangle` to `Point` `class` that accepts another `Point` as parameter and determines if the 2 points can form a non-degenerate triangle with the origin. A \"degenerate\" triangle is one where the sum of two lengths equals the third. The method has to calculate 3 distances: self to origin, parameter to origin, and self to parameter and make sure none is larger than or equal to the sum of the other 2.<br> Note that we use `self.` to access another method from the same class."
   ]
  },
  {
   "cell_type": "code",
   "execution_count": 37,
   "metadata": {},
   "outputs": [],
   "source": [
    "class Point:\n",
    "    x = 0\n",
    "    y = 0\n",
    "    \n",
    "    def print_point(self):\n",
    "        print('({},{})'.format(self.x, self.y))\n",
    "        \n",
    "    def distance_from_origin(self):\n",
    "        return math.sqrt(self.x**2 + self.y**2)\n",
    "        \n",
    "    def distance(self, x, y):\n",
    "        return math.sqrt((self.x-x)**2 + (self.y-y)**2)\n",
    "    \n",
    "    def distance_from_point(self, point):\n",
    "        return math.sqrt((self.x-point.x)**2 + (self.y-point.y)**2)\n",
    "    \n",
    "    def can_form_triangle(self, another_point):\n",
    "        distance1 = self.distance_from_origin()\n",
    "        distance2 = another_point.distance_from_origin()\n",
    "        distance3 = self.distance_from_point(another_point)\n",
    "        print(distance1, distance2, distance3)\n",
    "        return ((distance1 < distance2+distance3) and \n",
    "               (distance2 < distance1+distance3) and\n",
    "               (distance3 < distance1+distance2))"
   ]
  },
  {
   "cell_type": "markdown",
   "metadata": {},
   "source": [
    "Let's test it."
   ]
  },
  {
   "cell_type": "code",
   "execution_count": 38,
   "metadata": {},
   "outputs": [
    {
     "name": "stdout",
     "output_type": "stream",
     "text": [
      "4.47213595499958 2.23606797749979 2.23606797749979\n"
     ]
    },
    {
     "data": {
      "text/plain": [
       "False"
      ]
     },
     "execution_count": 38,
     "metadata": {},
     "output_type": "execute_result"
    }
   ],
   "source": [
    "point1 = Point()\n",
    "point1.x = 2\n",
    "point1.y = 4\n",
    "point2 = Point()\n",
    "point2.x = 1\n",
    "point2.y = 2\n",
    "point1.can_form_triangle(point2)"
   ]
  },
  {
   "cell_type": "markdown",
   "metadata": {},
   "source": [
    "Note that in the last method, I put the return expression in parathesis which allows me to break the line within paranthesis. The following is valid:"
   ]
  },
  {
   "cell_type": "code",
   "execution_count": 39,
   "metadata": {},
   "outputs": [
    {
     "data": {
      "text/plain": [
       "4"
      ]
     },
     "execution_count": 39,
     "metadata": {},
     "output_type": "execute_result"
    }
   ],
   "source": [
    "(2+\n",
    "2)"
   ]
  },
  {
   "cell_type": "markdown",
   "metadata": {},
   "source": [
    "While this one is not:"
   ]
  },
  {
   "cell_type": "code",
   "execution_count": 40,
   "metadata": {},
   "outputs": [
    {
     "ename": "SyntaxError",
     "evalue": "invalid syntax (2937285217.py, line 1)",
     "output_type": "error",
     "traceback": [
      "\u001b[0;36m  Input \u001b[0;32mIn [40]\u001b[0;36m\u001b[0m\n\u001b[0;31m    2+\u001b[0m\n\u001b[0m      ^\u001b[0m\n\u001b[0;31mSyntaxError\u001b[0m\u001b[0;31m:\u001b[0m invalid syntax\n"
     ]
    }
   ],
   "source": [
    "2+\n",
    "2"
   ]
  },
  {
   "cell_type": "markdown",
   "metadata": {},
   "source": [
    "### Class exercise\n",
    "Add a new method to `Point` class named `perimeter` that calculates the perimeter of the the triangle created using the current point, a second point passed as parameter, and origin. The method should first check if the 3 points form a valid triangle. If a \"degenerate\" triangle, it returns -1 otherwise it returns the permieter."
   ]
  },
  {
   "cell_type": "code",
   "execution_count": 44,
   "metadata": {},
   "outputs": [],
   "source": [
    "class Point:\n",
    "    x = 0\n",
    "    y = 0\n",
    "    \n",
    "    def print_point(self):\n",
    "        print('({},{})'.format(self.x, self.y))\n",
    "        \n",
    "    def distance_from_origin(self):\n",
    "        return math.sqrt(self.x**2 + self.y**2)\n",
    "        \n",
    "    def distance(self, x, y):\n",
    "        return math.sqrt((self.x-x)**2 + (self.y-y)**2)\n",
    "    \n",
    "    def distance_from_point(self, point):\n",
    "        return math.sqrt((self.x-point.x)**2 + (self.y-point.y)**2)\n",
    "    \n",
    "    def perimeter(self, another_point):\n",
    "        distance1 = self.distance_from_origin()\n",
    "        distance2 = another_point.distance_from_origin()\n",
    "        distance3 = self.distance_from_point(another_point)\n",
    "        print(distance1, distance2, distance3)\n",
    "        if ((distance1 < distance2+distance3) and \n",
    "               (distance2 < distance1+distance3) and\n",
    "               (distance3 < distance1+distance2)):\n",
    "            return distance1+distance2+distance3\n",
    "        else:\n",
    "            return -1\n",
    "        "
   ]
  },
  {
   "cell_type": "markdown",
   "metadata": {},
   "source": [
    "Let's test it using an invalid triangle."
   ]
  },
  {
   "cell_type": "code",
   "execution_count": 45,
   "metadata": {},
   "outputs": [
    {
     "name": "stdout",
     "output_type": "stream",
     "text": [
      "11.180339887498949 6.708203932499369 4.47213595499958\n"
     ]
    },
    {
     "data": {
      "text/plain": [
       "-1"
      ]
     },
     "execution_count": 45,
     "metadata": {},
     "output_type": "execute_result"
    }
   ],
   "source": [
    "point1 = Point()\n",
    "point1.x = 5\n",
    "point1.y = 10\n",
    "point2 = Point()\n",
    "point2.x = 3\n",
    "point2.y = 6\n",
    "point1.perimeter(point2)"
   ]
  },
  {
   "cell_type": "markdown",
   "metadata": {},
   "source": [
    "And then using a valid one."
   ]
  },
  {
   "cell_type": "code",
   "execution_count": 46,
   "metadata": {},
   "outputs": [
    {
     "name": "stdout",
     "output_type": "stream",
     "text": [
      "3.605551275463989 3.605551275463989 1.4142135623730951\n"
     ]
    },
    {
     "data": {
      "text/plain": [
       "8.625316113301073"
      ]
     },
     "execution_count": 46,
     "metadata": {},
     "output_type": "execute_result"
    }
   ],
   "source": [
    "point1 = Point()\n",
    "point1.x = 2\n",
    "point1.y = 3\n",
    "point2 = Point()\n",
    "point2.x = 3\n",
    "point2.y = 2\n",
    "point1.perimeter(point2)"
   ]
  },
  {
   "cell_type": "markdown",
   "metadata": {},
   "source": [
    "## Class constructor\n",
    "A `constructor` is a special method that is called when the object is first created. In Python, the constructor method is named `__init__()`. Below we add a `constructor` to Point class that allows us to specify x and y when we create an instance of the class."
   ]
  },
  {
   "cell_type": "code",
   "execution_count": 47,
   "metadata": {},
   "outputs": [],
   "source": [
    "class Point:\n",
    "    x = 0\n",
    "    y = 0\n",
    "    \n",
    "    def __init__(self, x, y):\n",
    "        self.x = x\n",
    "        self.y = y\n",
    "    \n",
    "    def print_point(self):\n",
    "        print('({},{})'.format(self.x, self.y))\n",
    "        \n",
    "    def distance_from_origin(self):\n",
    "        return math.sqrt(self.x**2 + self.y**2)\n",
    "        \n",
    "    def distance(self, x, y):\n",
    "        return math.sqrt((self.x-x)**2 + (self.y-y)**2)\n",
    "    \n",
    "    def distance_from_point(self, point):\n",
    "        return math.sqrt((self.x-point.x)**2 + (self.y-point.y)**2)\n",
    "    \n",
    "    def can_form_triangle(self, point):\n",
    "        distance1 = self.distance_from_origin()\n",
    "        distance2 = point.distance_from_origin()\n",
    "        distance3 = self.distance_from_point(point)\n",
    "        print(distance1, distance2, distance3)\n",
    "        return ((distance1 < distance2+distance3) and \n",
    "               (distance2 < distance1+distance3) and\n",
    "               (distance3 < distance1+distance2))"
   ]
  },
  {
   "cell_type": "markdown",
   "metadata": {},
   "source": [
    "Let's create a new Point using the newly added constructor."
   ]
  },
  {
   "cell_type": "code",
   "execution_count": 48,
   "metadata": {},
   "outputs": [
    {
     "name": "stdout",
     "output_type": "stream",
     "text": [
      "(2,3)\n",
      "(3,2)\n"
     ]
    }
   ],
   "source": [
    "point1 = Point(2,3)\n",
    "point2 = Point(3,2)\n",
    "point1.print_point()\n",
    "point2.print_point()"
   ]
  },
  {
   "cell_type": "markdown",
   "metadata": {},
   "source": [
    "## Deafult values for method parameters\n",
    "Python allows you to specify default values for method parameters. If the paramter value is not specified when the method is called, the default value will be used. For example, below we set the default value for x and y in the constructor to zero. If x and y are not specified when an object is created, the point will be initialized to (0,0)."
   ]
  },
  {
   "cell_type": "code",
   "execution_count": 49,
   "metadata": {},
   "outputs": [],
   "source": [
    "class Point:\n",
    "    x = 0\n",
    "    y = 0\n",
    "    \n",
    "    def __init__(self, x=10, y=10):\n",
    "        self.x = x\n",
    "        self.y = y\n",
    "    \n",
    "    def print_point(self):\n",
    "        print('({},{})'.format(self.x, self.y))\n",
    "        \n",
    "    def distance_from_origin(self):\n",
    "        return math.sqrt(self.x**2 + self.y**2)\n",
    "        \n",
    "    def distance(self, x, y):\n",
    "        return math.sqrt((self.x-x)**2 + (self.y-y)**2)\n",
    "    \n",
    "    def distance_from_point(self, point):\n",
    "        return math.sqrt((self.x-point.x)**2 + (self.y-point.y)**2)\n",
    "    \n",
    "    def can_form_triangle(self, point):\n",
    "        distance1 = self.distance_from_origin()\n",
    "        distance2 = point.distance_from_origin()\n",
    "        distance3 = self.distance_from_point(point)\n",
    "        print(distance1, distance2, distance3)\n",
    "        return ((distance1 < distance2+distance3) and \n",
    "               (distance2 < distance1+distance3) and\n",
    "               (distance3 < distance1+distance2))"
   ]
  },
  {
   "cell_type": "markdown",
   "metadata": {},
   "source": [
    "Let's test it."
   ]
  },
  {
   "cell_type": "code",
   "execution_count": 50,
   "metadata": {},
   "outputs": [
    {
     "name": "stdout",
     "output_type": "stream",
     "text": [
      "(10,10)\n",
      "(3,2)\n"
     ]
    }
   ],
   "source": [
    "point1 = Point()\n",
    "point1.print_point()\n",
    "point2 = Point(3,2)\n",
    "point2.print_point()"
   ]
  },
  {
   "cell_type": "markdown",
   "metadata": {},
   "source": [
    "You can use the default values for some parameters but not for the others. For example, below we use the default value for x but set y to 5."
   ]
  },
  {
   "cell_type": "code",
   "execution_count": 51,
   "metadata": {},
   "outputs": [
    {
     "name": "stdout",
     "output_type": "stream",
     "text": [
      "(10,5)\n"
     ]
    }
   ],
   "source": [
    "point1 = Point(y=5)\n",
    "point1.print_point()"
   ]
  },
  {
   "cell_type": "markdown",
   "metadata": {},
   "source": [
    "Or specify just x."
   ]
  },
  {
   "cell_type": "code",
   "execution_count": 52,
   "metadata": {},
   "outputs": [
    {
     "name": "stdout",
     "output_type": "stream",
     "text": [
      "(5,10)\n"
     ]
    }
   ],
   "source": [
    "point1 = Point(x=5)\n",
    "point1.print_point()"
   ]
  },
  {
   "cell_type": "markdown",
   "metadata": {},
   "source": [
    "If you specify parameters in the same order as method definition, you don't need to explicitly name them."
   ]
  },
  {
   "cell_type": "code",
   "execution_count": 53,
   "metadata": {},
   "outputs": [
    {
     "name": "stdout",
     "output_type": "stream",
     "text": [
      "(7,10)\n"
     ]
    }
   ],
   "source": [
    "point1 = Point(7)\n",
    "point1.print_point()"
   ]
  },
  {
   "cell_type": "markdown",
   "metadata": {},
   "source": [
    "You can use default values for non-class functions as well."
   ]
  },
  {
   "cell_type": "code",
   "execution_count": 54,
   "metadata": {},
   "outputs": [
    {
     "name": "stdout",
     "output_type": "stream",
     "text": [
      "Hello Mohammad!\n",
      "Hello Salehan!\n"
     ]
    }
   ],
   "source": [
    "def greet(name='Mohammad'):\n",
    "    print('Hello {}!'.format(name))\n",
    "greet()\n",
    "greet('Salehan')"
   ]
  },
  {
   "cell_type": "markdown",
   "metadata": {},
   "source": [
    "## Class exercise\n",
    "Modify the distance method to calculate distance from origin if x and y values are not specified."
   ]
  },
  {
   "cell_type": "code",
   "execution_count": 55,
   "metadata": {},
   "outputs": [],
   "source": [
    "class Point:\n",
    "    \n",
    "    def __init__(self, x=0, y=0):\n",
    "        self.x = x\n",
    "        self.y = y\n",
    "    \n",
    "    def print_point(self):\n",
    "        print('({},{})'.format(self.x, self.y))\n",
    "\n",
    "        \n",
    "    def distance(self, x=0, y=0):\n",
    "        return math.sqrt((self.x-x)**2 + (self.y-y)**2)\n",
    "    \n",
    "    def distance_from_point(self, point):\n",
    "        return math.sqrt((self.x-point.x)**2 + (self.y-point.y)**2)\n",
    "    \n",
    "    def can_form_triangle(self, point):\n",
    "        distance1 = self.distance_from_origin()\n",
    "        distance2 = point.distance_from_origin()\n",
    "        distance3 = self.distance_from_point(point)\n",
    "        print(distance1, distance2, distance3)\n",
    "        return ((distance1 < distance2+distance3) and \n",
    "               (distance2 < distance1+distance3) and\n",
    "               (distance3 < distance1+distance2))"
   ]
  },
  {
   "cell_type": "code",
   "execution_count": 57,
   "metadata": {},
   "outputs": [
    {
     "data": {
      "text/plain": [
       "2.23606797749979"
      ]
     },
     "execution_count": 57,
     "metadata": {},
     "output_type": "execute_result"
    }
   ],
   "source": [
    "point2=Point(3,2)\n",
    "point2.distance(1,1)"
   ]
  },
  {
   "cell_type": "code",
   "execution_count": 58,
   "metadata": {},
   "outputs": [
    {
     "data": {
      "text/plain": [
       "3.605551275463989"
      ]
     },
     "execution_count": 58,
     "metadata": {},
     "output_type": "execute_result"
    }
   ],
   "source": [
    "point2.distance()"
   ]
  },
  {
   "cell_type": "markdown",
   "metadata": {},
   "source": [
    "## Class exercise\n",
    "Write a Circle class which represents the circle shape. A Circle is characterized by its radius so we add an attribute with the same name. The radius can be used to calculate the area and permieter of the circle. We add these 2 as class methods."
   ]
  },
  {
   "cell_type": "code",
   "execution_count": 72,
   "metadata": {},
   "outputs": [],
   "source": [
    "class Circle:\n",
    "    def __init__(self,r=0):\n",
    "        self.radius=r\n",
    "        \n",
    "    def area(self):\n",
    "        return math.pi*self.radius**2\n",
    "    \n",
    "    def perimeter(self):\n",
    "        return 2*math.pi*self.radius"
   ]
  },
  {
   "cell_type": "code",
   "execution_count": 73,
   "metadata": {},
   "outputs": [
    {
     "name": "stdout",
     "output_type": "stream",
     "text": [
      "78.53981633974483\n",
      "31.41592653589793\n"
     ]
    }
   ],
   "source": [
    "c = Circle(5)\n",
    "print(c.area())\n",
    "print(c.perimeter())\n"
   ]
  },
  {
   "cell_type": "code",
   "execution_count": null,
   "metadata": {},
   "outputs": [],
   "source": []
  }
 ],
 "metadata": {
  "kernelspec": {
   "display_name": "Python 3 (ipykernel)",
   "language": "python",
   "name": "python3"
  },
  "language_info": {
   "codemirror_mode": {
    "name": "ipython",
    "version": 3
   },
   "file_extension": ".py",
   "mimetype": "text/x-python",
   "name": "python",
   "nbconvert_exporter": "python",
   "pygments_lexer": "ipython3",
   "version": "3.9.12"
  }
 },
 "nbformat": 4,
 "nbformat_minor": 4
}
